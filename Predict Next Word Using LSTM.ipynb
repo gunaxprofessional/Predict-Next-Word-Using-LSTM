{
  "nbformat": 4,
  "nbformat_minor": 0,
  "metadata": {
    "colab": {
      "provenance": []
    },
    "kernelspec": {
      "name": "python3",
      "display_name": "Python 3"
    },
    "language_info": {
      "name": "python"
    }
  },
  "cells": [
    {
      "cell_type": "code",
      "execution_count": null,
      "metadata": {
        "id": "qdjhCYP0CVzw"
      },
      "outputs": [],
      "source": [
        "import tensorflow as tf\n",
        "from tensorflow.keras.preprocessing.text import Tokenizer\n",
        "from tensorflow.keras.layers import Embedding, LSTM, Dense\n",
        "from tensorflow.keras.models import Sequential\n",
        "from tensorflow.keras.utils import to_categorical\n",
        "from tensorflow.keras.optimizers import Adam\n",
        "import pickle\n",
        "import numpy as np\n",
        "import os"
      ]
    },
    {
      "cell_type": "code",
      "source": [
        "file = open(\"/content/Romeo and Juliet.txt\", \"r\", encoding = \"utf8\")\n",
        "\n",
        "lines = []\n",
        "for i in file:\n",
        "    lines.append(i)"
      ],
      "metadata": {
        "id": "KACZkRdrCnkq"
      },
      "execution_count": null,
      "outputs": []
    },
    {
      "cell_type": "code",
      "source": [
        "data = \"\"\n",
        "for i in lines:\n",
        "  data = ' '. join(lines)"
      ],
      "metadata": {
        "id": "T3EG5Y--EIcz"
      },
      "execution_count": null,
      "outputs": []
    },
    {
      "cell_type": "code",
      "source": [
        "data = data.split()\n",
        "data = ' '.join(data)\n",
        "data[:500]"
      ],
      "metadata": {
        "colab": {
          "base_uri": "https://localhost:8080/",
          "height": 105
        },
        "id": "hz6vWRqPELok",
        "outputId": "396659d9-5e38-44a3-f977-5b07aa0d3aef"
      },
      "execution_count": null,
      "outputs": [
        {
          "output_type": "execute_result",
          "data": {
            "text/plain": [
              "'\\ufeff The Project Gutenberg eBook of Romeo and Juliet This ebook is for the use of anyone anywhere in the United States and most other parts of the world at no cost and with almost no restrictions whatsoever. You may copy it, give it away or re-use it under the terms of the Project Gutenberg License included with this ebook or online at www.gutenberg.org. If you are not located in the United States, you will have to check the laws of the country where you are located before using this eBook. Title: '"
            ],
            "application/vnd.google.colaboratory.intrinsic+json": {
              "type": "string"
            }
          },
          "metadata": {},
          "execution_count": 18
        }
      ]
    },
    {
      "cell_type": "code",
      "source": [
        "tokenizer = Tokenizer()\n",
        "tokenizer.fit_on_texts([data])"
      ],
      "metadata": {
        "id": "sDipF0TmC0I1"
      },
      "execution_count": null,
      "outputs": []
    },
    {
      "cell_type": "code",
      "source": [
        "# saving the tokenizer for predict function\n",
        "pickle.dump(tokenizer, open('token.pkl', 'wb'))"
      ],
      "metadata": {
        "id": "YlyHdf3GEPn6"
      },
      "execution_count": null,
      "outputs": []
    },
    {
      "cell_type": "code",
      "source": [
        "sequence_data = tokenizer.texts_to_sequences([data])[0]\n",
        "sequence_data[:15]"
      ],
      "metadata": {
        "colab": {
          "base_uri": "https://localhost:8080/"
        },
        "id": "lIcP60yQES9v",
        "outputId": "ed676e92-834e-42a7-9e5d-3b3721eafa8a"
      },
      "execution_count": null,
      "outputs": [
        {
          "output_type": "stream",
          "name": "stdout",
          "text": [
            "4297\n"
          ]
        }
      ]
    },
    {
      "cell_type": "code",
      "source": [
        "len(sequence_data)"
      ],
      "metadata": {
        "id": "broOZZfyafrj"
      },
      "execution_count": null,
      "outputs": []
    },
    {
      "cell_type": "code",
      "source": [
        "vocab_size = len(tokenizer.word_index) + 1\n",
        "print(vocab_size)"
      ],
      "metadata": {
        "id": "o-7hQ1G-aiJJ"
      },
      "execution_count": null,
      "outputs": []
    },
    {
      "cell_type": "code",
      "source": [
        "sequences = []\n",
        "for i in range(3, len(sequence_data)):\n",
        "    words = sequence_data[i-3:i+1]\n",
        "    sequences.append(words)\n",
        "\n",
        "print(\"The Length of sequences are: \", len(sequences))"
      ],
      "metadata": {
        "colab": {
          "base_uri": "https://localhost:8080/"
        },
        "id": "jOAKcxaoEVi6",
        "outputId": "49223d8d-984e-4f69-da83-0092ab83c7b7"
      },
      "execution_count": null,
      "outputs": [
        {
          "output_type": "stream",
          "name": "stdout",
          "text": [
            "The Length of sequences are:  29283\n"
          ]
        }
      ]
    },
    {
      "cell_type": "code",
      "source": [
        "sequences = np.array(sequences)\n",
        "sequences[:10]"
      ],
      "metadata": {
        "id": "su6eSSMteC_O",
        "colab": {
          "base_uri": "https://localhost:8080/"
        },
        "outputId": "bc8a7d21-38a2-400e-b9ce-08d6b603a0a9"
      },
      "execution_count": null,
      "outputs": [
        {
          "output_type": "execute_result",
          "data": {
            "text/plain": [
              "array([[1927,    1,   54,  129],\n",
              "       [   1,   54,  129,  306],\n",
              "       [  54,  129,  306,    6],\n",
              "       [ 129,  306,    6,   12],\n",
              "       [ 306,    6,   12,    2],\n",
              "       [   6,   12,    2,   22],\n",
              "       [  12,    2,   22,   16],\n",
              "       [   2,   22,   16,  306],\n",
              "       [  22,   16,  306,    8],\n",
              "       [  16,  306,    8,   18]])"
            ]
          },
          "metadata": {},
          "execution_count": 23
        }
      ]
    },
    {
      "cell_type": "code",
      "source": [
        "X = []\n",
        "y = []\n",
        "\n",
        "for i in sequences:\n",
        "    X.append(i[0:3])\n",
        "    y.append(i[3])\n",
        "\n",
        "X = np.array(X)\n",
        "y = np.array(y)\n",
        "print(\"Data: \", X[:10])\n",
        "print(\"Response: \", y[:10])"
      ],
      "metadata": {
        "colab": {
          "base_uri": "https://localhost:8080/"
        },
        "id": "hwJ8-FjNEaCw",
        "outputId": "ad8eeef9-e43d-44e7-d4c9-8812436cdc87"
      },
      "execution_count": null,
      "outputs": [
        {
          "output_type": "stream",
          "name": "stdout",
          "text": [
            "Data:  [[1927    1   54]\n",
            " [   1   54  129]\n",
            " [  54  129  306]\n",
            " [ 129  306    6]\n",
            " [ 306    6   12]\n",
            " [   6   12    2]\n",
            " [  12    2   22]\n",
            " [   2   22   16]\n",
            " [  22   16  306]\n",
            " [  16  306    8]]\n",
            "Response:  [129 306   6  12   2  22  16 306   8  18]\n"
          ]
        }
      ]
    },
    {
      "cell_type": "code",
      "source": [
        "y = to_categorical(y, num_classes=vocab_size)\n",
        "y[:5]"
      ],
      "metadata": {
        "colab": {
          "base_uri": "https://localhost:8080/"
        },
        "id": "COS0SOo1Edk8",
        "outputId": "ba1b380a-b749-4d82-aeb0-f4ed6f794131"
      },
      "execution_count": null,
      "outputs": [
        {
          "output_type": "execute_result",
          "data": {
            "text/plain": [
              "array([[0., 0., 0., ..., 0., 0., 0.],\n",
              "       [0., 0., 0., ..., 0., 0., 0.],\n",
              "       [0., 0., 0., ..., 0., 0., 0.],\n",
              "       [0., 0., 0., ..., 0., 0., 0.],\n",
              "       [0., 0., 1., ..., 0., 0., 0.]], dtype=float32)"
            ]
          },
          "metadata": {},
          "execution_count": 25
        }
      ]
    },
    {
      "cell_type": "code",
      "source": [
        "model = Sequential()\n",
        "model.add(Embedding(vocab_size, 10, input_length=3))\n",
        "model.add(LSTM(1000, return_sequences=True))\n",
        "model.add(LSTM(1000))\n",
        "model.add(Dense(1000, activation=\"relu\"))\n",
        "model.add(Dense(vocab_size, activation=\"softmax\"))"
      ],
      "metadata": {
        "id": "zzV83aQaC1Kb"
      },
      "execution_count": null,
      "outputs": []
    },
    {
      "cell_type": "code",
      "source": [
        "model.summary()"
      ],
      "metadata": {
        "colab": {
          "base_uri": "https://localhost:8080/"
        },
        "id": "6h9yCyQeC42H",
        "outputId": "879651e0-211b-4b40-c0df-680441a4d4ce"
      },
      "execution_count": null,
      "outputs": [
        {
          "output_type": "stream",
          "name": "stdout",
          "text": [
            "Model: \"sequential_1\"\n",
            "_________________________________________________________________\n",
            " Layer (type)                Output Shape              Param #   \n",
            "=================================================================\n",
            " embedding_1 (Embedding)     (None, 3, 10)             42970     \n",
            "                                                                 \n",
            " lstm_2 (LSTM)               (None, 3, 1000)           4044000   \n",
            "                                                                 \n",
            " lstm_3 (LSTM)               (None, 1000)              8004000   \n",
            "                                                                 \n",
            " dense_2 (Dense)             (None, 1000)              1001000   \n",
            "                                                                 \n",
            " dense_3 (Dense)             (None, 4297)              4301297   \n",
            "                                                                 \n",
            "=================================================================\n",
            "Total params: 17393267 (66.35 MB)\n",
            "Trainable params: 17393267 (66.35 MB)\n",
            "Non-trainable params: 0 (0.00 Byte)\n",
            "_________________________________________________________________\n"
          ]
        }
      ]
    },
    {
      "cell_type": "code",
      "source": [
        "from tensorflow import keras\n",
        "from keras.utils import plot_model\n",
        "\n",
        "plot_model(model, to_file='plot.png', show_layer_names=True)"
      ],
      "metadata": {
        "colab": {
          "base_uri": "https://localhost:8080/",
          "height": 564
        },
        "id": "OqxgekZkC5lL",
        "outputId": "8ff845a4-0078-4099-e837-f0ef266ee51f"
      },
      "execution_count": null,
      "outputs": [
        {
          "output_type": "execute_result",
          "data": {
            "image/png": "[encoded data removed]",
            "text/plain": [
              "<IPython.core.display.Image object>"
            ]
          },
          "metadata": {},
          "execution_count": 31
        }
      ]
    },
    {
      "cell_type": "code",
      "source": [
        "from tensorflow.keras.callbacks import ModelCheckpoint\n",
        "\n",
        "checkpoint = ModelCheckpoint(\"next_words.h5\", monitor='loss', verbose=1, save_best_only=True)\n",
        "model.compile(loss=\"categorical_crossentropy\", optimizer=Adam(learning_rate=0.001))\n",
        "model.fit(X, y, epochs=50, batch_size=64, callbacks=[checkpoint])"
      ],
      "metadata": {
        "colab": {
          "base_uri": "https://localhost:8080/"
        },
        "id": "UFjIT4yIC8Zj",
        "outputId": "89b90492-6a93-4d87-ef15-d1c64d336a3c"
      },
      "execution_count": null,
      "outputs": [
        {
          "output_type": "stream",
          "name": "stdout",
          "text": [
            "Epoch 1/50\n",
            "458/458 [==============================] - ETA: 0s - loss: 6.8146\n",
            "Epoch 1: loss improved from inf to 6.81460, saving model to next_words.h5\n"
          ]
        },
        {
          "output_type": "stream",
          "name": "stderr",
          "text": [
            "/usr/local/lib/python3.10/dist-packages/keras/src/engine/training.py:3000: UserWarning: You are saving your model as an HDF5 file via `model.save()`. This file format is considered legacy. We recommend using instead the native Keras format, e.g. `model.save('my_model.keras')`.\n",
            "  saving_api.save_model(\n"
          ]
        },
        {
          "output_type": "stream",
          "name": "stdout",
          "text": [
            "\b\b\b\b\b\b\b\b\b\b\b\b\b\b\b\b\b\b\b\b\b\b\b\b\b\b\b\b\b\b\b\b\b\b\b\b\b\b\b\b\b\b\b\b\b\b\b\b\b\b\b\b\b\b\b\b\b\b\b\b\b\b\b\b\b\r458/458 [==============================] - 311s 667ms/step - loss: 6.8146\n",
            "Epoch 2/50\n",
            "458/458 [==============================] - ETA: 0s - loss: 6.4303\n",
            "Epoch 2: loss improved from 6.81460 to 6.43030, saving model to next_words.h5\n",
            "458/458 [==============================] - 300s 656ms/step - loss: 6.4303\n",
            "Epoch 3/50\n",
            "458/458 [==============================] - ETA: 0s - loss: 6.1660\n",
            "Epoch 3: loss improved from 6.43030 to 6.16599, saving model to next_words.h5\n",
            "458/458 [==============================] - 303s 660ms/step - loss: 6.1660\n",
            "Epoch 4/50\n",
            "458/458 [==============================] - ETA: 0s - loss: 5.9084\n",
            "Epoch 4: loss improved from 6.16599 to 5.90844, saving model to next_words.h5\n",
            "458/458 [==============================] - 295s 645ms/step - loss: 5.9084\n",
            "Epoch 5/50\n",
            "458/458 [==============================] - ETA: 0s - loss: 5.6298\n",
            "Epoch 5: loss improved from 5.90844 to 5.62976, saving model to next_words.h5\n",
            "458/458 [==============================] - 294s 642ms/step - loss: 5.6298\n",
            "Epoch 6/50\n",
            "458/458 [==============================] - ETA: 0s - loss: 5.3603\n",
            "Epoch 6: loss improved from 5.62976 to 5.36029, saving model to next_words.h5\n",
            "458/458 [==============================] - 294s 643ms/step - loss: 5.3603\n",
            "Epoch 7/50\n",
            "458/458 [==============================] - ETA: 0s - loss: 5.1073\n",
            "Epoch 7: loss improved from 5.36029 to 5.10732, saving model to next_words.h5\n",
            "458/458 [==============================] - 292s 638ms/step - loss: 5.1073\n",
            "Epoch 8/50\n",
            "458/458 [==============================] - ETA: 0s - loss: 4.8569\n",
            "Epoch 8: loss improved from 5.10732 to 4.85693, saving model to next_words.h5\n",
            "458/458 [==============================] - 293s 641ms/step - loss: 4.8569\n",
            "Epoch 9/50\n",
            "458/458 [==============================] - ETA: 0s - loss: 4.5880\n",
            "Epoch 9: loss improved from 4.85693 to 4.58796, saving model to next_words.h5\n",
            "458/458 [==============================] - 289s 632ms/step - loss: 4.5880\n",
            "Epoch 10/50\n",
            "458/458 [==============================] - ETA: 0s - loss: 4.2990\n",
            "Epoch 10: loss improved from 4.58796 to 4.29899, saving model to next_words.h5\n",
            "458/458 [==============================] - 298s 650ms/step - loss: 4.2990\n",
            "Epoch 11/50\n",
            "458/458 [==============================] - ETA: 0s - loss: 3.9877\n",
            "Epoch 11: loss improved from 4.29899 to 3.98766, saving model to next_words.h5\n",
            "458/458 [==============================] - 306s 669ms/step - loss: 3.9877\n",
            "Epoch 12/50\n",
            "458/458 [==============================] - ETA: 0s - loss: 3.6533\n",
            "Epoch 12: loss improved from 3.98766 to 3.65330, saving model to next_words.h5\n",
            "458/458 [==============================] - 299s 652ms/step - loss: 3.6533\n",
            "Epoch 13/50\n",
            "458/458 [==============================] - ETA: 0s - loss: 3.3363\n",
            "Epoch 13: loss improved from 3.65330 to 3.33630, saving model to next_words.h5\n",
            "458/458 [==============================] - 302s 660ms/step - loss: 3.3363\n",
            "Epoch 14/50\n",
            "458/458 [==============================] - ETA: 0s - loss: 3.0169\n",
            "Epoch 14: loss improved from 3.33630 to 3.01687, saving model to next_words.h5\n",
            "458/458 [==============================] - 303s 661ms/step - loss: 3.0169\n",
            "Epoch 15/50\n",
            "458/458 [==============================] - ETA: 0s - loss: 2.7293\n",
            "Epoch 15: loss improved from 3.01687 to 2.72928, saving model to next_words.h5\n",
            "458/458 [==============================] - 306s 669ms/step - loss: 2.7293\n",
            "Epoch 16/50\n",
            "458/458 [==============================] - ETA: 0s - loss: 2.4716\n",
            "Epoch 16: loss improved from 2.72928 to 2.47163, saving model to next_words.h5\n",
            "458/458 [==============================] - 315s 688ms/step - loss: 2.4716\n",
            "Epoch 17/50\n",
            "458/458 [==============================] - ETA: 0s - loss: 2.2230\n",
            "Epoch 17: loss improved from 2.47163 to 2.22299, saving model to next_words.h5\n",
            "458/458 [==============================] - 295s 645ms/step - loss: 2.2230\n",
            "Epoch 18/50\n",
            "458/458 [==============================] - ETA: 0s - loss: 1.9992\n",
            "Epoch 18: loss improved from 2.22299 to 1.99919, saving model to next_words.h5\n",
            "458/458 [==============================] - 293s 639ms/step - loss: 1.9992\n",
            "Epoch 19/50\n",
            "458/458 [==============================] - ETA: 0s - loss: 1.7846\n",
            "Epoch 19: loss improved from 1.99919 to 1.78459, saving model to next_words.h5\n",
            "458/458 [==============================] - 305s 665ms/step - loss: 1.7846\n",
            "Epoch 20/50\n",
            "458/458 [==============================] - ETA: 0s - loss: 1.5767\n",
            "Epoch 20: loss improved from 1.78459 to 1.57666, saving model to next_words.h5\n",
            "458/458 [==============================] - 296s 645ms/step - loss: 1.5767\n",
            "Epoch 21/50\n",
            "458/458 [==============================] - ETA: 0s - loss: 1.3976\n",
            "Epoch 21: loss improved from 1.57666 to 1.39757, saving model to next_words.h5\n",
            "458/458 [==============================] - 313s 684ms/step - loss: 1.3976\n",
            "Epoch 22/50\n",
            "458/458 [==============================] - ETA: 0s - loss: 1.2289\n",
            "Epoch 22: loss improved from 1.39757 to 1.22890, saving model to next_words.h5\n",
            "458/458 [==============================] - 295s 645ms/step - loss: 1.2289\n",
            "Epoch 23/50\n",
            "458/458 [==============================] - ETA: 0s - loss: 1.0694\n",
            "Epoch 23: loss improved from 1.22890 to 1.06942, saving model to next_words.h5\n",
            "458/458 [==============================] - 297s 648ms/step - loss: 1.0694\n",
            "Epoch 24/50\n",
            "458/458 [==============================] - ETA: 0s - loss: 0.9068\n",
            "Epoch 24: loss improved from 1.06942 to 0.90681, saving model to next_words.h5\n",
            "458/458 [==============================] - 296s 646ms/step - loss: 0.9068\n",
            "Epoch 25/50\n",
            "458/458 [==============================] - ETA: 0s - loss: 0.7867\n",
            "Epoch 25: loss improved from 0.90681 to 0.78671, saving model to next_words.h5\n",
            "458/458 [==============================] - 294s 641ms/step - loss: 0.7867\n",
            "Epoch 26/50\n",
            "458/458 [==============================] - ETA: 0s - loss: 0.6739\n",
            "Epoch 26: loss improved from 0.78671 to 0.67394, saving model to next_words.h5\n",
            "458/458 [==============================] - 297s 648ms/step - loss: 0.6739\n",
            "Epoch 27/50\n",
            "458/458 [==============================] - ETA: 0s - loss: 0.5718\n",
            "Epoch 27: loss improved from 0.67394 to 0.57182, saving model to next_words.h5\n",
            "458/458 [==============================] - 298s 651ms/step - loss: 0.5718\n",
            "Epoch 28/50\n",
            "458/458 [==============================] - ETA: 0s - loss: 0.5121\n",
            "Epoch 28: loss improved from 0.57182 to 0.51211, saving model to next_words.h5\n",
            "458/458 [==============================] - 298s 651ms/step - loss: 0.5121\n",
            "Epoch 29/50\n",
            "458/458 [==============================] - ETA: 0s - loss: 0.4529\n",
            "Epoch 29: loss improved from 0.51211 to 0.45290, saving model to next_words.h5\n",
            "458/458 [==============================] - 293s 639ms/step - loss: 0.4529\n",
            "Epoch 30/50\n",
            "458/458 [==============================] - ETA: 0s - loss: 0.3973\n",
            "Epoch 30: loss improved from 0.45290 to 0.39732, saving model to next_words.h5\n",
            "458/458 [==============================] - 301s 658ms/step - loss: 0.3973\n",
            "Epoch 31/50\n",
            "458/458 [==============================] - ETA: 0s - loss: 0.3726\n",
            "Epoch 31: loss improved from 0.39732 to 0.37263, saving model to next_words.h5\n",
            "458/458 [==============================] - 296s 645ms/step - loss: 0.3726\n",
            "Epoch 32/50\n",
            "458/458 [==============================] - ETA: 0s - loss: 0.3455\n",
            "Epoch 32: loss improved from 0.37263 to 0.34546, saving model to next_words.h5\n",
            "458/458 [==============================] - 302s 659ms/step - loss: 0.3455\n",
            "Epoch 33/50\n",
            "458/458 [==============================] - ETA: 0s - loss: 0.3337\n",
            "Epoch 33: loss improved from 0.34546 to 0.33367, saving model to next_words.h5\n",
            "458/458 [==============================] - 297s 648ms/step - loss: 0.3337\n",
            "Epoch 34/50\n",
            "458/458 [==============================] - ETA: 0s - loss: 0.3103\n",
            "Epoch 34: loss improved from 0.33367 to 0.31034, saving model to next_words.h5\n",
            "458/458 [==============================] - 302s 659ms/step - loss: 0.3103\n",
            "Epoch 35/50\n",
            "458/458 [==============================] - ETA: 0s - loss: 0.3060\n",
            "Epoch 35: loss improved from 0.31034 to 0.30600, saving model to next_words.h5\n",
            "458/458 [==============================] - 299s 652ms/step - loss: 0.3060\n",
            "Epoch 36/50\n",
            "458/458 [==============================] - ETA: 0s - loss: 0.2995\n",
            "Epoch 36: loss improved from 0.30600 to 0.29946, saving model to next_words.h5\n",
            "458/458 [==============================] - 297s 648ms/step - loss: 0.2995\n",
            "Epoch 37/50\n",
            "458/458 [==============================] - ETA: 0s - loss: 0.2753\n",
            "Epoch 37: loss improved from 0.29946 to 0.27527, saving model to next_words.h5\n",
            "458/458 [==============================] - 295s 643ms/step - loss: 0.2753\n",
            "Epoch 38/50\n",
            "458/458 [==============================] - ETA: 0s - loss: 0.2647\n",
            "Epoch 38: loss improved from 0.27527 to 0.26467, saving model to next_words.h5\n",
            "458/458 [==============================] - 295s 644ms/step - loss: 0.2647\n",
            "Epoch 39/50\n",
            "458/458 [==============================] - ETA: 0s - loss: 0.2616\n",
            "Epoch 39: loss improved from 0.26467 to 0.26163, saving model to next_words.h5\n",
            "458/458 [==============================] - 294s 642ms/step - loss: 0.2616\n",
            "Epoch 40/50\n",
            "458/458 [==============================] - ETA: 0s - loss: 0.2584\n",
            "Epoch 40: loss improved from 0.26163 to 0.25844, saving model to next_words.h5\n",
            "458/458 [==============================] - 295s 643ms/step - loss: 0.2584\n",
            "Epoch 41/50\n",
            "458/458 [==============================] - ETA: 0s - loss: 0.2570\n",
            "Epoch 41: loss improved from 0.25844 to 0.25699, saving model to next_words.h5\n",
            "458/458 [==============================] - 304s 663ms/step - loss: 0.2570\n",
            "Epoch 42/50\n",
            "458/458 [==============================] - ETA: 0s - loss: 0.2519\n",
            "Epoch 42: loss improved from 0.25699 to 0.25195, saving model to next_words.h5\n",
            "458/458 [==============================] - 301s 657ms/step - loss: 0.2519\n",
            "Epoch 43/50\n",
            "458/458 [==============================] - ETA: 0s - loss: 0.2401\n",
            "Epoch 43: loss improved from 0.25195 to 0.24015, saving model to next_words.h5\n",
            "458/458 [==============================] - 295s 645ms/step - loss: 0.2401\n",
            "Epoch 44/50\n",
            "458/458 [==============================] - ETA: 0s - loss: 0.2269\n",
            "Epoch 44: loss improved from 0.24015 to 0.22686, saving model to next_words.h5\n",
            "458/458 [==============================] - 304s 663ms/step - loss: 0.2269\n",
            "Epoch 45/50\n",
            "458/458 [==============================] - ETA: 0s - loss: 0.2201\n",
            "Epoch 45: loss improved from 0.22686 to 0.22015, saving model to next_words.h5\n",
            "458/458 [==============================] - 290s 633ms/step - loss: 0.2201\n",
            "Epoch 46/50\n",
            "458/458 [==============================] - ETA: 0s - loss: 0.2247\n",
            "Epoch 46: loss did not improve from 0.22015\n",
            "458/458 [==============================] - 297s 648ms/step - loss: 0.2247\n",
            "Epoch 47/50\n",
            "458/458 [==============================] - ETA: 0s - loss: 0.2131\n",
            "Epoch 47: loss improved from 0.22015 to 0.21308, saving model to next_words.h5\n",
            "458/458 [==============================] - 288s 629ms/step - loss: 0.2131\n",
            "Epoch 48/50\n",
            "458/458 [==============================] - ETA: 0s - loss: 0.2166\n",
            "Epoch 48: loss did not improve from 0.21308\n",
            "458/458 [==============================] - 293s 638ms/step - loss: 0.2166\n",
            "Epoch 49/50\n",
            "458/458 [==============================] - ETA: 0s - loss: 0.2117\n",
            "Epoch 49: loss improved from 0.21308 to 0.21173, saving model to next_words.h5\n",
            "458/458 [==============================] - 295s 645ms/step - loss: 0.2117\n",
            "Epoch 50/50\n",
            "458/458 [==============================] - ETA: 0s - loss: 0.2147\n",
            "Epoch 50: loss did not improve from 0.21173\n",
            "458/458 [==============================] - 318s 694ms/step - loss: 0.2147\n"
          ]
        },
        {
          "output_type": "execute_result",
          "data": {
            "text/plain": [
              "<keras.src.callbacks.History at 0x7d0482499c90>"
            ]
          },
          "metadata": {},
          "execution_count": 32
        }
      ]
    },
    {
      "cell_type": "code",
      "source": [
        "from tensorflow.keras.models import load_model\n",
        "import numpy as np\n",
        "import pickle\n",
        "\n",
        "# Load the model and tokenizer\n",
        "model = load_model('next_words.h5')\n",
        "tokenizer = pickle.load(open('token.pkl', 'rb'))\n",
        "\n",
        "def Predict_Next_Words(model, tokenizer, text):\n",
        "  sequence = tokenizer.texts_to_sequences([text])\n",
        "  sequence = np.array(sequence)\n",
        "  preds = np.argmax(model.predict(sequence))\n",
        "  predicted_word = \"\"\n",
        "\n",
        "  for key, value in tokenizer.word_index.items():\n",
        "      if value == preds:\n",
        "          predicted_word = key\n",
        "          break\n",
        "\n",
        "  print(predicted_word)\n",
        "  return predicted_word\n",
        "while(True):\n",
        "  text = input(\"Enter your line: \")\n",
        "\n",
        "  if text == \"0\":\n",
        "      print(\"Execution completed.....\")\n",
        "      break\n",
        "\n",
        "  else:\n",
        "      try:\n",
        "          # text = text.split(\" \")\n",
        "          # text = text[-3:]\n",
        "          print(text)\n",
        "\n",
        "          Predict_Next_Words(model, tokenizer, text)\n",
        "\n",
        "      except Exception as e:\n",
        "        print(\"Error occurred: \",e)\n",
        "        continue"
      ],
      "metadata": {
        "id": "Lf0ED-3vpxCT"
      },
      "execution_count": null,
      "outputs": []
    },
    {
      "cell_type": "code",
      "source": [],
      "metadata": {
        "id": "lhxkiHJOJIjL"
      },
      "execution_count": null,
      "outputs": []
    }
  ]
}